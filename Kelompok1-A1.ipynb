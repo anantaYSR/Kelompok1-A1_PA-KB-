{
 "cells": [
  {
   "attachments": {},
   "cell_type": "markdown",
   "metadata": {},
   "source": [
    "                                           Image Processing 5 Hewan Mamalia\n",
    "\n",
    "                                                       Kelompok 1 \n",
    "                                                      Kelas A1 2021\n",
    "##### Anggota Kelompok :\n",
    "\n",
    "##### Bayu Abdurosyid - 2109106003\n",
    "##### Alif Maulana Setyawan  - 2109106002\n",
    "##### Ananta Yusra Putra.A - 2109106024\n",
    "\n",
    "link Dataset : <a href=\"https://www.kaggle.com/datasets/shiv28/animal-5-mammal\">Animal -5 Mammal</a>"
   ]
  },
  {
   "cell_type": "markdown",
   "metadata": {},
   "source": [
    "- Install package dibawah ini, yang akan digunakan untuk melakukan split folder yang akan digunakan untuk folder train dan validation"
   ]
  },
  {
   "cell_type": "code",
   "execution_count": null,
   "metadata": {},
   "outputs": [],
   "source": [
    "!pip install split_folders "
   ]
  },
  {
   "cell_type": "markdown",
   "metadata": {},
   "source": [
    "#### Library Utama"
   ]
  },
  {
   "cell_type": "code",
   "execution_count": null,
   "metadata": {},
   "outputs": [],
   "source": [
    "import tensorflow as tf"
   ]
  },
  {
   "cell_type": "code",
   "execution_count": null,
   "metadata": {},
   "outputs": [],
   "source": [
    "# Panggil Library untuk split\n",
    "import splitfolders"
   ]
  },
  {
   "cell_type": "markdown",
   "metadata": {},
   "source": [
    "#### Membuat Direktori Untuk Membaca Dataset"
   ]
  },
  {
   "cell_type": "code",
   "execution_count": null,
   "metadata": {},
   "outputs": [],
   "source": [
    "dir = 'D:/UNMUL/vscode/PAKBBB/dataset'"
   ]
  },
  {
   "cell_type": "markdown",
   "metadata": {},
   "source": [
    "#### Spliting Folder 80% training 20% validasi\n",
    "\n",
    "- Hanya di gunakan sekali, jika sudah dilakukan spliting folder maka code ini tidak perlu di jalankan lagi."
   ]
  },
  {
   "cell_type": "code",
   "execution_count": null,
   "metadata": {},
   "outputs": [],
   "source": [
    "splitfolders.ratio(dir, output = 'D:/UNMUL/vscode/PAKBBB', ratio = (.8, .2))"
   ]
  },
  {
   "cell_type": "markdown",
   "metadata": {},
   "source": [
    "#### Membuat Variabel Untuk Menentukan Resolusi Gambar"
   ]
  },
  {
   "cell_type": "code",
   "execution_count": null,
   "metadata": {},
   "outputs": [],
   "source": [
    "# Resolusi/dimensi Width (w), high (h)\n",
    "w = 150\n",
    "h = 150"
   ]
  },
  {
   "cell_type": "markdown",
   "metadata": {},
   "source": [
    "#### Library OS"
   ]
  },
  {
   "cell_type": "code",
   "execution_count": null,
   "metadata": {},
   "outputs": [],
   "source": [
    "import os"
   ]
  },
  {
   "cell_type": "markdown",
   "metadata": {},
   "source": [
    "Digunakan untuk :\n",
    "\n",
    "- scandir = Mengakses semua file dan folder yang ada di lokasi yang ditentukan\n",
    "- is_file = Untuk mengetahui apakah jenis objek tersebut berupa file atau direktori."
   ]
  },
  {
   "cell_type": "markdown",
   "metadata": {},
   "source": [
    "### Diagram Bar\n",
    "\n",
    "- Digunakan Untuk Melihat Jumlah Data Image"
   ]
  },
  {
   "cell_type": "code",
   "execution_count": null,
   "metadata": {},
   "outputs": [],
   "source": [
    "elephant = 0\n",
    "horse = 0\n",
    "lion = 0\n",
    "cat = 0\n",
    "dog = 0\n",
    "\n",
    "array =  [ \n",
    "          'D:/UNMUL/vscode/PAKBBB/dataset/ELEPHANT', \n",
    "          'D:/UNMUL/vscode/PAKBBB/dataset/HORSE', \n",
    "          'D:/UNMUL/vscode/PAKBBB/dataset/LION', \n",
    "          'D:/UNMUL/vscode/PAKBBB/dataset/cat', \n",
    "          'D:/UNMUL/vscode/PAKBBB/dataset/dog'\n",
    "          ]\n",
    "\n",
    "for path in os.scandir(array[0]):\n",
    "  if path.is_file():\n",
    "    elephant += 1\n",
    "for path in os.scandir(array[1]):\n",
    "  if path.is_file():\n",
    "    horse += 1\n",
    "for path in os.scandir(array[2]):\n",
    "  if path.is_file():\n",
    "    lion += 1\n",
    "for path in os.scandir(array[3]):\n",
    "  if path.is_file():\n",
    "    cat += 1\n",
    "for path in os.scandir(array[4]):\n",
    "  if path.is_file():\n",
    "    dog += 1\n",
    "\n",
    "print('file count:', elephant)\n",
    "print('file count:', horse)\n",
    "print('file count:', lion)\n",
    "print('file count:', cat)\n",
    "print('file count:', dog)\n",
    "\n",
    "animal = ['elephant', 'horse', 'lion', 'cat', 'dog']\n",
    "count = [elephant, horse, lion, cat, dog]"
   ]
  },
  {
   "cell_type": "markdown",
   "metadata": {},
   "source": [
    "#### Import Matplotlib"
   ]
  },
  {
   "cell_type": "code",
   "execution_count": null,
   "metadata": {},
   "outputs": [],
   "source": [
    "import matplotlib.pyplot as plt"
   ]
  },
  {
   "cell_type": "code",
   "execution_count": null,
   "metadata": {},
   "outputs": [],
   "source": [
    "x = animal\n",
    "y = count\n",
    "\n",
    "plt.figure(figsize = (10,5))\n",
    "plt.bar(x, y, color=['gray', 'brown', 'orange', 'yellow', 'black'])\n",
    "plt.title(\"Jumlah Gambar Animal\")\n",
    "plt.show()"
   ]
  },
  {
   "cell_type": "markdown",
   "metadata": {},
   "source": [
    "#### Membuat Class Name"
   ]
  },
  {
   "cell_type": "code",
   "execution_count": null,
   "metadata": {},
   "outputs": [],
   "source": [
    "class_names = ['elephant', 'horse', 'lion', 'cat', 'dog']"
   ]
  },
  {
   "cell_type": "markdown",
   "metadata": {},
   "source": [
    "### Analisis Sebelum Augmentasi\n",
    "\n",
    "- Preprocessing"
   ]
  },
  {
   "cell_type": "markdown",
   "metadata": {},
   "source": [
    "datagenbefore digunakan sebagai metode awal augmentasi yang akan digunakan dalam train_before <br>\n",
    "dan train_before digunakan sebagai augmentasi yang akan digunakan pada data\n",
    "\n",
    "- rescale = mengubah ukuran gambar\n",
    "- class_mode = metode pemilihan klasifikasi\n",
    "- subset = menentukan penggunaan data\n",
    "- target_size = dimensi dari image yang akan digunakan dalam proses\n",
    "- batch_size = banyaknya image yang akan dimasukan dalam setiap step"
   ]
  },
  {
   "cell_type": "code",
   "execution_count": null,
   "metadata": {},
   "outputs": [],
   "source": [
    "datagenbefore = ImageDataGenerator(\n",
    "    rescale = 1./255\n",
    ")\n",
    "\n",
    "train_before = datagenbefore.flow_from_directory(\n",
    "    'D:/UNMUL/vscode/PAKBBB/train',\n",
    "    class_mode = 'categorical',\n",
    "    subset = 'training',\n",
    "    target_size = (w, h),\n",
    "    batch_size = 256\n",
    ")"
   ]
  },
  {
   "cell_type": "markdown",
   "metadata": {},
   "source": [
    "#### Visualisasi Sebelum Augmentasi"
   ]
  },
  {
   "cell_type": "code",
   "execution_count": null,
   "metadata": {},
   "outputs": [],
   "source": [
    "plt.figure(figsize=(10, 10))\n",
    "\n",
    "images, labels = train_before.next()\n",
    "\n",
    "for i in range (16):\n",
    "  plt.subplot(4, 4, i+1)\n",
    "  plt.imshow(train_before[0][0][i])\n",
    "  plt.title(class_names[tf.argmax(labels[i])])\n",
    "  plt.axis('off')"
   ]
  },
  {
   "cell_type": "markdown",
   "metadata": {},
   "source": [
    "# Augmentasi Gambar"
   ]
  },
  {
   "cell_type": "code",
   "execution_count": null,
   "metadata": {},
   "outputs": [],
   "source": [
    "datagen = ImageDataGenerator(\n",
    "    rescale = 1./255,\n",
    "    fill_mode = 'nearest',\n",
    "    horizontal_flip = True,\n",
    "    rotation_range = 20,\n",
    "    width_shift_range = 0.2,\n",
    "    height_shift_range = 0.2,\n",
    "    shear_range = 0.2,\n",
    "    zoom_range = 0.15,\n",
    ")\n"
   ]
  },
  {
   "cell_type": "code",
   "execution_count": null,
   "metadata": {},
   "outputs": [],
   "source": [
    "w = 150\n",
    "h = 150\n",
    "\n",
    "train_dataset = datagen.flow_from_directory(\n",
    "    '/content/dataset/train',\n",
    "    class_mode='categorical',\n",
    "    target_size = (w, h),\n",
    "    batch_size = 256\n",
    ")\n",
    "\n",
    "validation_dataset = datagen.flow_from_directory(\n",
    "    '/content/dataset/val',\n",
    "    class_mode='categorical',\n",
    "    target_size = (w, h),\n",
    "    batch_size = 256\n",
    ")\n"
   ]
  },
  {
   "cell_type": "code",
   "execution_count": null,
   "metadata": {},
   "outputs": [],
   "source": [
    "plt.figure(figsize=(10, 10))\n",
    "\n",
    "images, labels = train_dataset.next()\n",
    "\n",
    "for i in range (16):\n",
    "  plt.subplot(4, 4, i+1)\n",
    "  plt.imshow(train_dataset[0][0][i])\n",
    "  plt.title(class_names[tf.argmax(labels[i])])\n",
    "  plt.axis('off')"
   ]
  },
  {
   "cell_type": "code",
   "execution_count": null,
   "metadata": {},
   "outputs": [],
   "source": [
    "model = Sequential(\n",
    "    [\n",
    "    layers.Conv2D(64, (3,3), activation='relu', input_shape=(w, h, 3)),\n",
    "    layers.MaxPooling2D(2, 2),\n",
    "    layers.Conv2D(64, (3, 3), activation='relu'),\n",
    "    layers.MaxPooling2D(2, 2),\n",
    "    layers.Dropout(0.2),\n",
    "    layers.Conv2D(128, (3, 3), activation='relu'),\n",
    "    layers.MaxPooling2D(2, 2),\n",
    "    layers.Dropout(0.5),\n",
    "    layers.Conv2D(256, (3, 3), activation='relu'),\n",
    "    layers.MaxPooling2D(2, 2),\n",
    "    layers.Dropout(0.5),\n",
    "    layers.Flatten(),\n",
    "    layers.Dense(512, activation = 'relu'),\n",
    "    layers.Dense(256, activation = 'relu'),\n",
    "    layers.Dense(5, activation = 'softmax')\n",
    "    ]\n",
    ")"
   ]
  },
  {
   "cell_type": "code",
   "execution_count": null,
   "metadata": {},
   "outputs": [],
   "source": [
    "model.compile(\n",
    "    optimizer = 'adam',\n",
    "    loss = 'categorical_crossentropy',\n",
    "    metrics = ['accuracy']\n",
    ")\n",
    "model.summary()"
   ]
  },
  {
   "cell_type": "code",
   "execution_count": null,
   "metadata": {},
   "outputs": [],
   "source": [
    "class callback(tf.keras.callbacks.Callback):\n",
    "  def on_epoch_end(self, epocj, logs = None):\n",
    "    if (logs.get('accuracy') > 0.95 and logs.get('val_accuracy') > 0.95):\n",
    "      print('Akurasi telah mencapai 95%!')\n",
    "      self.model.stop_training = True"
   ]
  },
  {
   "cell_type": "code",
   "execution_count": null,
   "metadata": {},
   "outputs": [],
   "source": [
    "history = model.fit(\n",
    "    train_dataset,\n",
    "    validation_data = validation_dataset,\n",
    "    validation_steps = 5,\n",
    "    epochs = 17,\n",
    "    callbacks = [callback()]    \n",
    ")"
   ]
  },
  {
   "cell_type": "code",
   "execution_count": null,
   "metadata": {},
   "outputs": [],
   "source": [
    "model.save('gfgModel.h5')\n",
    "print('Model Saved!')"
   ]
  },
  {
   "cell_type": "code",
   "execution_count": null,
   "metadata": {},
   "outputs": [],
   "source": [
    "plt.plot(history.history['accuracy'])\n",
    "plt.plot(history.history['val_accuracy'])\n",
    "plt.title('model accuracy')\n",
    "plt.ylabel('accuracy')\n",
    "plt.xlabel('epoch')\n",
    "plt.legend(['train', 'test'], loc='upper left')\n",
    "plt.show()"
   ]
  },
  {
   "cell_type": "code",
   "execution_count": null,
   "metadata": {},
   "outputs": [],
   "source": [
    "plt.plot(history.history['loss'])\n",
    "plt.plot(history.history['val_loss'])\n",
    "plt.title('model loss')\n",
    "plt.ylabel('loss')\n",
    "plt.xlabel('epoch')\n",
    "plt.legend(['train', 'test'], loc='upper left')\n",
    "plt.show()\n"
   ]
  },
  {
   "cell_type": "code",
   "execution_count": null,
   "metadata": {},
   "outputs": [],
   "source": [
    "model.evaluate(validation_dataset)"
   ]
  }
 ],
 "metadata": {
  "kernelspec": {
   "display_name": "Python 3.10.7 64-bit",
   "language": "python",
   "name": "python3"
  },
  "language_info": {
   "name": "python",
   "version": "3.10.7"
  },
  "orig_nbformat": 4,
  "vscode": {
   "interpreter": {
    "hash": "1cb9e9630e8f2e9ecfe779cdc510f3986ff6a3e659ee1a526fc0e92949b11756"
   }
  }
 },
 "nbformat": 4,
 "nbformat_minor": 2
}
